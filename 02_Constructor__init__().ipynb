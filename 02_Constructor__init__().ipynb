{
 "metadata": {
  "language_info": {
   "codemirror_mode": {
    "name": "ipython",
    "version": 3
   },
   "file_extension": ".py",
   "mimetype": "text/x-python",
   "name": "python",
   "nbconvert_exporter": "python",
   "pygments_lexer": "ipython3",
   "version": "3.8.5-final"
  },
  "orig_nbformat": 2,
  "kernelspec": {
   "name": "python38564bit0d9cac4d2a85481a821e3303ad5ece89",
   "display_name": "Python 3.8.5 64-bit",
   "language": "python"
  }
 },
 "nbformat": 4,
 "nbformat_minor": 2,
 "cells": [
  {
   "cell_type": "code",
   "execution_count": 4,
   "metadata": {},
   "outputs": [
    {
     "output_type": "stream",
     "name": "stdout",
     "text": [
      "Sniper\n100\n0\n{'name': 'Sniper', 'health': 100, 'power': 10, 'armor': 4}\n{'name': 'Sniper', 'health': 100, 'power': 15, 'armor': 1}\n{'name': 'Sniper', 'health': 1000, 'power': 10, 'armor': 0}\n"
     ]
    }
   ],
   "source": [
    "class Hero:\n",
    "    def __init__(self, inputName, inputHealth, inputPower, inputArmor):\n",
    "        self.name = inputName\n",
    "        self.health = inputHealth\n",
    "        self.power = inputPower\n",
    "        self.armor = inputArmor\n",
    "\n",
    "\n",
    "hero1 = Hero(\"Sniper\", 100, 10, 4) # Object / Instance (Instansiasi)\n",
    "hero2 = Hero(\"Sniper\", 100, 15, 1)\n",
    "hero3 = Hero(\"Sniper\", 1000, 10, 0)\n",
    "\n",
    "print(hero1.name)\n",
    "print(hero2.health)\n",
    "print(hero3.armor)\n",
    "\n",
    "print(hero1.__dict__)\n",
    "print(hero2.__dict__)\n",
    "print(hero3.__dict__)"
   ]
  },
  {
   "cell_type": "code",
   "execution_count": null,
   "metadata": {},
   "outputs": [],
   "source": []
  }
 ]
}