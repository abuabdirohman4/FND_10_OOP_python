{
 "metadata": {
  "language_info": {
   "codemirror_mode": {
    "name": "ipython",
    "version": 3
   },
   "file_extension": ".py",
   "mimetype": "text/x-python",
   "name": "python",
   "nbconvert_exporter": "python",
   "pygments_lexer": "ipython3",
   "version": "3.8.5-final"
  },
  "orig_nbformat": 2,
  "kernelspec": {
   "name": "python38564bit0d9cac4d2a85481a821e3303ad5ece89",
   "display_name": "Python 3.8.5 64-bit",
   "language": "python"
  }
 },
 "nbformat": 4,
 "nbformat_minor": 2,
 "cells": [
  {
   "cell_type": "code",
   "execution_count": 1,
   "metadata": {},
   "outputs": [
    {
     "output_type": "stream",
     "name": "stdout",
     "text": [
      "<__main__.Hero object at 0x7fa4c8648bb0>\n{'name': 'Sniper', 'health': 100}\nSniper\n"
     ]
    }
   ],
   "source": [
    "class Hero:\n",
    "    pass\n",
    "\n",
    "hero1 = Hero()\n",
    "hero2 = Hero()\n",
    "hero3 = Hero()\n",
    "\n",
    "hero1.name = \"Sniper\"\n",
    "hero1.health = 100\n",
    "\n",
    "hero2.name = \"Sven\"\n",
    "hero2.health = 200\n",
    "\n",
    "hero3.name = \"Ucup\"\n",
    "hero3.health = 1000\n",
    "\n",
    "print(hero1)\n",
    "print(hero1.__dict__)\n",
    "print(hero1.name)"
   ]
  },
  {
   "cell_type": "code",
   "execution_count": null,
   "metadata": {},
   "outputs": [],
   "source": []
  }
 ]
}