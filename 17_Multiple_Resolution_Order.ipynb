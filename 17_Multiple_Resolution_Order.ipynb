{
 "metadata": {
  "language_info": {
   "codemirror_mode": {
    "name": "ipython",
    "version": 3
   },
   "file_extension": ".py",
   "mimetype": "text/x-python",
   "name": "python",
   "nbconvert_exporter": "python",
   "pygments_lexer": "ipython3",
   "version": "3.8.5-final"
  },
  "orig_nbformat": 2,
  "kernelspec": {
   "name": "python38564bit0d9cac4d2a85481a821e3303ad5ece89",
   "display_name": "Python 3.8.5 64-bit",
   "language": "python"
  }
 },
 "nbformat": 4,
 "nbformat_minor": 2,
 "cells": [
  {
   "cell_type": "code",
   "execution_count": 1,
   "metadata": {},
   "outputs": [
    {
     "output_type": "stream",
     "name": "stdout",
     "text": [
      "IniBdalah show C\nHelp on C in module __main__ object:\n\nclass C(B, A)\n |  Method resolution order:\n |      C\n |      B\n |      A\n |      builtins.object\n |  \n |  Methods defined here:\n |  \n |  show(self)\n |      # pass\n |  \n |  ----------------------------------------------------------------------\n |  Data descriptors inherited from B:\n |  \n |  __dict__\n |      dictionary for instance variables (if defined)\n |  \n |  __weakref__\n |      list of weak references to the object (if defined)\n\n"
     ]
    }
   ],
   "source": [
    "class A:\n",
    "    \n",
    "    def show(self):\n",
    "        print(\"Ini adalah show A\")\n",
    "\n",
    "class B:\n",
    "    \n",
    "    def show(self):\n",
    "        print(\"IniBdalah show B\")\n",
    "\n",
    "class C(B,A):\n",
    "    # pass\n",
    "    def show(self):\n",
    "        print(\"IniBdalah show C\")\n",
    "\n",
    "objek = C()\n",
    "objek.show()\n",
    "help(objek)"
   ]
  },
  {
   "cell_type": "code",
   "execution_count": null,
   "metadata": {},
   "outputs": [],
   "source": []
  }
 ]
}