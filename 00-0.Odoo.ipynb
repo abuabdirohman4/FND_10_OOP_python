{
 "metadata": {
  "language_info": {
   "codemirror_mode": {
    "name": "ipython",
    "version": 3
   },
   "file_extension": ".py",
   "mimetype": "text/x-python",
   "name": "python",
   "nbconvert_exporter": "python",
   "pygments_lexer": "ipython3",
   "version": "3.8.5"
  },
  "orig_nbformat": 2,
  "kernelspec": {
   "name": "python38564bit0d9cac4d2a85481a821e3303ad5ece89",
   "display_name": "Python 3.8.5 64-bit"
  },
  "metadata": {
   "interpreter": {
    "hash": "916dbcbb3f70747c44a77c7bcd40155683ae19c65e1c03b4aa3499c5328201f1"
   }
  }
 },
 "nbformat": 4,
 "nbformat_minor": 2,
 "cells": [
  {
   "cell_type": "code",
   "execution_count": 24,
   "metadata": {},
   "outputs": [
    {
     "output_type": "stream",
     "name": "stdout",
     "text": [
      "registration\nRegistration\nstd_fees_structure : Registration\nAda isinya\n"
     ]
    }
   ],
   "source": [
    "input_structure = input()\n",
    "structure_for = {'a': 'registration', 'b': 'monthly', 'c': 'kosong'}\n",
    "print(structure_for[input_structure])\n",
    "\n",
    "if structure_for[input_structure] == \"monthly\":\n",
    "    print(\"Monthly\")\n",
    "    std_fees_structure = \"Monthly\"\n",
    "elif structure_for[input_structure] == \"registration\" :\n",
    "    print(\"Registration\")\n",
    "    std_fees_structure = \"Registration\"\n",
    "\n",
    "# print(\"structure_for :\",structure_for)\n",
    "print(\"std_fees_structure :\",std_fees_structure)\n",
    "\n",
    "if not std_fees_structure:\n",
    "    print(\"Kosong\")\n",
    "else:\n",
    "    print(\"Ada isinya\")\n",
    "\n",
    "structure_for = \"\"\n",
    "std_fees_structure = \"\"\n",
    "# print(\"structure_for :\",structure_for)\n",
    "# print(\"std_fees_structure :\",std_fees_structure)"
   ]
  },
  {
   "cell_type": "code",
   "execution_count": 3,
   "metadata": {},
   "outputs": [
    {
     "output_type": "stream",
     "name": "stdout",
     "text": [
      "Print\n"
     ]
    }
   ],
   "source": [
    "def contoh(a):\n",
    "    return \"Print\"\n",
    "    print(\"Keluar setelah return\")\n",
    "    b = a + a\n",
    "    return b \n",
    "\n",
    "print(contoh(2))"
   ]
  },
  {
   "cell_type": "code",
   "execution_count": 3,
   "metadata": {},
   "outputs": [
    {
     "output_type": "stream",
     "name": "stdout",
     "text": [
      "dict_items([('name', 'Abu'), ('email', 'abu@gmail.com')])\n"
     ]
    }
   ],
   "source": [
    "partner =   {\n",
    "                'name': 'Abu',\n",
    "                'email': \"abu@gmail.com\",\n",
    "            }\n",
    "print(partner.items())"
   ]
  },
  {
   "cell_type": "code",
   "execution_count": null,
   "metadata": {},
   "outputs": [],
   "source": []
  }
 ]
}