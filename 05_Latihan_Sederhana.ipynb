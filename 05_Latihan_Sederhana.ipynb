{
 "metadata": {
  "language_info": {
   "codemirror_mode": {
    "name": "ipython",
    "version": 3
   },
   "file_extension": ".py",
   "mimetype": "text/x-python",
   "name": "python",
   "nbconvert_exporter": "python",
   "pygments_lexer": "ipython3",
   "version": "3.8.5-final"
  },
  "orig_nbformat": 2,
  "kernelspec": {
   "name": "python38564bit0d9cac4d2a85481a821e3303ad5ece89",
   "display_name": "Python 3.8.5 64-bit",
   "language": "python"
  }
 },
 "nbformat": 4,
 "nbformat_minor": 2,
 "cells": [
  {
   "cell_type": "code",
   "execution_count": 10,
   "metadata": {},
   "outputs": [
    {
     "output_type": "stream",
     "name": "stdout",
     "text": [
      "sniper menyerang rikimaru\nrikimaru diserang sniper\nserangan terasa : 1.0\ndarah rikimaru tersisa 99.0\n\n\nrikimaru menyerang sniper\nsniper diserang rikimaru\nserangan terasa : 1.0\ndarah sniper tersisa 99.0\n"
     ]
    }
   ],
   "source": [
    "class Hero:\n",
    "\n",
    "    def __init__(self,name,health,attackPower,armorNumber):\n",
    "        self.name = name\n",
    "        self.health = health\n",
    "        self.attackPower = attackPower\n",
    "        self.armorNumber = armorNumber\n",
    "\n",
    "    def serang(self, lawan):\n",
    "        print(self.name + ' menyerang ' + lawan.name)\n",
    "        lawan.diserang(self, self.attackPower)\n",
    "\n",
    "    def diserang(self, lawan, attackPower_lawan):\n",
    "        print(self.name + ' diserang ' + lawan.name)\n",
    "        attack_diterima = attackPower_lawan/self.armorNumber\n",
    "        print('serangan terasa : ' + str(attack_diterima))\n",
    "        self.health -= attack_diterima\n",
    "        print('darah ' + self.name + ' tersisa ' + str(self.health))\n",
    "\n",
    "sniper = Hero('sniper',100,10,5)\n",
    "rikimaru = Hero('rikimaru',100,5,10)\n",
    "\n",
    "sniper.serang(rikimaru)\n",
    "print(\"\\n\")\n",
    "rikimaru.serang(sniper)"
   ]
  },
  {
   "cell_type": "code",
   "execution_count": null,
   "metadata": {},
   "outputs": [],
   "source": []
  }
 ]
}