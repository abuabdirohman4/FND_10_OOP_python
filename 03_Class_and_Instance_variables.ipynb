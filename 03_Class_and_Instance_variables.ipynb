{
 "metadata": {
  "language_info": {
   "codemirror_mode": {
    "name": "ipython",
    "version": 3
   },
   "file_extension": ".py",
   "mimetype": "text/x-python",
   "name": "python",
   "nbconvert_exporter": "python",
   "pygments_lexer": "ipython3",
   "version": "3.8.5-final"
  },
  "orig_nbformat": 2,
  "kernelspec": {
   "name": "python38564bit0d9cac4d2a85481a821e3303ad5ece89",
   "display_name": "Python 3.8.5 64-bit",
   "language": "python"
  }
 },
 "nbformat": 4,
 "nbformat_minor": 2,
 "cells": [
  {
   "cell_type": "code",
   "execution_count": 4,
   "metadata": {},
   "outputs": [
    {
     "output_type": "stream",
     "name": "stdout",
     "text": [
      "Membuat Hero dengan nama Sniper\n1\nMembuat Hero dengan nama Mirana\n2\nMembuat Hero dengan nama Ucuo\n3\n"
     ]
    }
   ],
   "source": [
    "class Hero:\n",
    "    # Class Variables\n",
    "    jumlah = 0\n",
    "\n",
    "    def __init__(self, inputName, inputHealth, inputPower, inputArmor):\n",
    "        # Instance Variables\n",
    "        self.name = inputName\n",
    "        self.health = inputHealth\n",
    "        self.power = inputPower\n",
    "        self.armor = inputArmor\n",
    "        Hero.jumlah += 1\n",
    "        print(\"Membuat Hero dengan nama \" + inputName)\n",
    "\n",
    "hero1 = Hero(\"Sniper\", 100, 10, 4)\n",
    "print(Hero.jumlah)\n",
    "hero2 = Hero(\"Mirana\", 100, 15, 1)\n",
    "print(Hero.jumlah)\n",
    "hero3 = Hero(\"Ucuo\", 1000, 10, 0)\n",
    "print(Hero.jumlah)"
   ]
  },
  {
   "cell_type": "code",
   "execution_count": null,
   "metadata": {},
   "outputs": [],
   "source": []
  }
 ]
}