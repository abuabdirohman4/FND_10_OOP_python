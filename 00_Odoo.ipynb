{
 "metadata": {
  "language_info": {
   "codemirror_mode": {
    "name": "ipython",
    "version": 3
   },
   "file_extension": ".py",
   "mimetype": "text/x-python",
   "name": "python",
   "nbconvert_exporter": "python",
   "pygments_lexer": "ipython3",
   "version": "3.8.5-final"
  },
  "orig_nbformat": 2,
  "kernelspec": {
   "name": "python38564bit0d9cac4d2a85481a821e3303ad5ece89",
   "display_name": "Python 3.8.5 64-bit",
   "language": "python"
  }
 },
 "nbformat": 4,
 "nbformat_minor": 2,
 "cells": [
  {
   "cell_type": "code",
   "execution_count": null,
   "metadata": {},
   "outputs": [],
   "source": [
    "def payslip_confirm(self):\n",
    "        '''Method to confirm payslip'''\n",
    "        for rec in self:\n",
    "            if not rec.journal_id:\n",
    "                raise ValidationError(_('Kindly, Select Account Journal!'))\n",
    "            if not rec.fees_structure_id:\n",
    "                raise ValidationError(_('Kindly, Select Fees Structure!'))\n",
    "            lines = []\n",
    "            for data in rec.fees_structure_id.line_ids or []:\n",
    "                line_vals = {'slip_id': rec.id,\n",
    "                             'name': data.name,\n",
    "                             'code': data.code,\n",
    "                             'type': data.type,\n",
    "                             'account_id': data.account_id.id,\n",
    "                             'amount': data.amount,\n",
    "                             'currency_id': data.currency_id.id or False,\n",
    "                             'currency_symbol': data.currency_symbol or False}\n",
    "                lines.append((0, 0, line_vals))\n",
    "            rec.write({'line_ids': lines})\n",
    "            # Compute amount\n",
    "            amount = 0\n",
    "            for data in rec.line_ids:\n",
    "                amount += data.amount\n",
    "            rec.register_id.write({'total_amount': rec.total})\n",
    "            rec.write({'total': amount,\n",
    "                       'state': 'confirm',\n",
    "                       'due_amount': amount,\n",
    "                       'currency_id': rec.company_id.currency_id.id or False\n",
    "                       })"
   ]
  },
  {
   "cell_type": "code",
   "execution_count": null,
   "metadata": {},
   "outputs": [],
   "source": [
    "lines = []\n",
    "line_vals = {   'slip_id': '01',\n",
    "                'name': 'Abu Abdirohman',\n",
    "                'code': '354',\n",
    "                'type': 'Lajang',\n",
    "            }\n",
    "lines.append((0, 0, line_vals))\n",
    "\n",
    "line_vals = {   'slip_id': '02',\n",
    "                'name': 'Azati Hanani',\n",
    "                'code': '354',\n",
    "                'type': 'Lajang',\n",
    "            }\n",
    "lines.append((0, 0, line_vals))\n",
    "\n",
    "print(lines)\n"
   ]
  },
  {
   "cell_type": "code",
   "execution_count": null,
   "metadata": {},
   "outputs": [],
   "source": [
    "print({'line_ids': lines})"
   ]
  },
  {
   "cell_type": "code",
   "execution_count": null,
   "metadata": {},
   "outputs": [],
   "source": [
    "{'line_ids': \n",
    "                [   (0, 0, {\n",
    "                            'slip_id': '01', 'name': 'Abu Abdirohman', 'code': '354', 'type': 'Lajang'\n",
    "                            }\n",
    "                    ), \n",
    "                    (0, 0, {\n",
    "                            'slip_id': '02', 'name': 'Azati Hanani', 'code': '354', 'type': 'Lajang'\n",
    "                            }\n",
    "                    )\n",
    "                ]\n",
    "}"
   ]
  },
  {
   "cell_type": "code",
   "execution_count": null,
   "metadata": {},
   "outputs": [],
   "source": [
    "lines = []\n",
    "print(lines)\n",
    "\n",
    "tupple1 = (0, 0, {'Nama': 'Abu'})\n",
    "tupple2 = (0, 0, {'Nama': 'Abdi'})\n",
    "tupple3 = (0, 0, {'Nama': 'Rohman'})\n",
    "print(tupple1, tupple2, tupple3)\n",
    "\n",
    "lines.append(tupple1)\n",
    "print(lines)\n",
    "lines.append(tupple2)\n",
    "print(lines)\n",
    "lines.append(tupple3)\n",
    "print(lines)\n",
    "\n",
    "line_ids = {'lines_ids' : lines}\n",
    "print(line_ids)"
   ]
  },
  {
   "cell_type": "code",
   "execution_count": null,
   "metadata": {},
   "outputs": [],
   "source": [
    "{'lines_ids': \n",
    "                [\n",
    "                    (0, 0, \n",
    "                        {\n",
    "                            'slip_id': self.id,\n",
    "                            'name': \"Seragam Olahraga\",\n",
    "                            'code': \"04\",\n",
    "                            'type': \"year\",\n",
    "                            'account_id': 30,\n",
    "                            'amount': 200000.00,\n",
    "                            'currency_id': 2 or False,\n",
    "                            'currency_symbol': 1 or False\n",
    "                        }\n",
    "                        \n",
    "                    ), \n",
    "                    (0, 0, \n",
    "                        {\n",
    "                            'slip_id': self.id,\n",
    "                            'name': \"Uang Gedung\",\n",
    "                            'code': \"05\",\n",
    "                            'type': \"year\",\n",
    "                            'account_id': 31,\n",
    "                            'amount': 15000000.00,\n",
    "                            'currency_id': 2 or False,\n",
    "                            'currency_symbol': 1 or False\n",
    "                        } \n",
    "                    ),\n",
    "                    (0, 0, \n",
    "                        {\n",
    "                            'slip_id': self.id,\n",
    "                            'name': \"Uang Masuk\",\n",
    "                            'code': \"06\",\n",
    "                            'type': \"year\",\n",
    "                            'account_id': 32,\n",
    "                            'amount': 5000000.00,\n",
    "                            'currency_id': 2 or False,\n",
    "                            'currency_symbol': 1 or False\n",
    "                        }\n",
    "                    )\n",
    "                ]\n",
    "}"
   ]
  },
  {
   "cell_type": "code",
   "execution_count": null,
   "metadata": {},
   "outputs": [],
   "source": [
    "payslip =   {\n",
    "                        'name': 'Invoice Biaya Pendaftaran',\n",
    "                        'journal_id': 1,\n",
    "                        # 'state': 'confirm',\n",
    "                        'fees_structure_id': 3,\n",
    "                    }\n",
    "print(payslip[\"fees_structure_id\"])\n"
   ]
  },
  {
   "cell_type": "code",
   "execution_count": null,
   "metadata": {},
   "outputs": [],
   "source": [
    "payslip['line_ids'],['nama'] = \"cek\", \"Abu\"\n",
    "payslip"
   ]
  },
  {
   "cell_type": "code",
   "execution_count": null,
   "metadata": {},
   "outputs": [],
   "source": [
    "payslip['line_ids'] = \"cek\""
   ]
  },
  {
   "cell_type": "code",
   "execution_count": null,
   "metadata": {},
   "outputs": [],
   "source": [
    "cat1 = {\"james\":{1,2,3}, \"bob\":{3,4,5}}\n",
    "for x in cat1['james']:\n",
    "    print(x)"
   ]
  },
  {
   "cell_type": "code",
   "execution_count": null,
   "metadata": {},
   "outputs": [],
   "source": [
    "payslip =   {\n",
    "                        'name': 'Invoice Biaya Pendaftaran',\n",
    "                        'journal_id': 1,\n",
    "                        # 'state': 'confirm',\n",
    "                        'fees_structure_id': 3,\n",
    "                    }\n",
    "print(payslip)"
   ]
  },
  {
   "cell_type": "code",
   "execution_count": null,
   "metadata": {},
   "outputs": [],
   "source": [
    "payslip2 =   {\n",
    "                        'woi': 'Invoice Biaya Pendaftaran',\n",
    "                        'wai woi': 1,\n",
    "                        # 'state': 'confirm',\n",
    "                        'fwoi woi woi': 3,\n",
    "                    }\n",
    "print(payslip2)"
   ]
  },
  {
   "cell_type": "code",
   "execution_count": null,
   "metadata": {},
   "outputs": [],
   "source": [
    "print(payslip.update(payslip2))\n",
    "print(payslip)"
   ]
  },
  {
   "cell_type": "code",
   "execution_count": null,
   "metadata": {},
   "outputs": [],
   "source": [
    "def Merge(dict1, dict2):\n",
    "    return(dict1.update(dict2))\n",
    "print(Merge(payslip,payslip2))"
   ]
  },
  {
   "cell_type": "code",
   "execution_count": null,
   "metadata": {},
   "outputs": [],
   "source": [
    "print(payslip)"
   ]
  },
  {
   "cell_type": "code",
   "execution_count": null,
   "metadata": {},
   "outputs": [],
   "source": []
  },
  {
   "cell_type": "code",
   "execution_count": null,
   "metadata": {},
   "outputs": [],
   "source": [
    "    def temp(self):\n",
    "        payslip =   {\n",
    "                        'name': 'Invoice Biaya Pendaftaran',\n",
    "                        'journal_id': 1,\n",
    "                        # 'state': 'confirm',\n",
    "                        'fees_structure_id': 3,\n",
    "                        'student_id': self.id,\n",
    "                        # 'total': 20200000.00,\n",
    "                        'line_ids': \n",
    "                        [\n",
    "                            (0, 0, \n",
    "                                {\n",
    "                                    'slip_id': self.id,\n",
    "                                    'name': \"Seragam Olahraga\",\n",
    "                                    'code': \"04\",\n",
    "                                    'type': \"year\",\n",
    "                                    'account_id': 30,\n",
    "                                    'amount': 200000.00,\n",
    "                                    'currency_id': 2 or False,\n",
    "                                    'currency_symbol': 1 or False\n",
    "                                }   \n",
    "                            ), \n",
    "                            (0, 0, \n",
    "                                {\n",
    "                                    'slip_id': self.id,\n",
    "                                    'name': \"Uang Gedung\",\n",
    "                                    'code': \"05\",\n",
    "                                    'type': \"year\",\n",
    "                                    'account_id': 31,\n",
    "                                    'amount': 15000000.00,\n",
    "                                    'currency_id': 2 or False,\n",
    "                                    'currency_symbol': 1 or False\n",
    "                                } \n",
    "                            ),\n",
    "                            (0, 0, \n",
    "                                {\n",
    "                                    'slip_id': self.id,\n",
    "                                    'name': \"Uang Masuk\",\n",
    "                                    'code': \"06\",\n",
    "                                    'type': \"year\",\n",
    "                                    'account_id': 32,\n",
    "                                    'amount': 5000000.00,\n",
    "                                    'currency_id': 2 or False,\n",
    "                                    'currency_symbol': 1 or False\n",
    "                                }\n",
    "                            )\n",
    "                        ],\n",
    "                        'total': 20200000.00,\n",
    "                        # 'state': 'confirm',\n",
    "                        'due_amount': 20200000.00,\n",
    "                        'currency_id': 2 or False\n",
    "                    }\n",
    "        return std_payslip.create(payslip)"
   ]
  },
  {
   "cell_type": "code",
   "execution_count": null,
   "metadata": {},
   "outputs": [],
   "source": [
    "# Overriding Invoice\n",
    "    @api.multi\n",
    "    def _create_invoice(self):\n",
    "        std_payslip = self.env['student.payslip']\n",
    "        self.ensure_one()\n",
    "        # Define student.payslip\n",
    "        payslip =   {\n",
    "                        'name': 'Invoice Biaya Pendaftaran',\n",
    "                        'journal_id': 1,\n",
    "                        # 'state': 'confirm',\n",
    "                        'fees_structure_id': 3,\n",
    "                        'student_id': self.id,\n",
    "                    }\n",
    "\n",
    "        # Define student.payslip.line\n",
    "        std_fees_structure = self.env['student.fees.structure'].search([('id', '=', 3)])\n",
    "        lines = []\n",
    "        for data in std_fees_structure.line_ids or []:\n",
    "            line_vals = {'slip_id': self.id,\n",
    "                            'name': data.name,\n",
    "                            'code': data.code,\n",
    "                            'type': data.type,\n",
    "                            'account_id': data.account_id.id,\n",
    "                            'amount': data.amount,\n",
    "                            'currency_id': data.currency_id.id or False,\n",
    "                            'currency_symbol': data.currency_symbol or False}\n",
    "            lines.append((0, 0, line_vals))\n",
    "        payslip['line_ids'] = lines\n",
    "        # Compute amount\n",
    "        amount = 0\n",
    "        for data in std_fees_structure.line_ids:\n",
    "        # for data in std_payslip.line_ids:\n",
    "            amount += data.amount\n",
    "        std_payslip.register_id.write({'total_amount': std_payslip.total})\n",
    "        payslip_total = {'total': amount,\n",
    "                        #  'state': 'confirm',\n",
    "                         'due_amount': amount,\n",
    "                         'currency_id': std_payslip.company_id.currency_id.id or False\n",
    "                        }\n",
    "        # Merge\n",
    "        payslip.update(payslip_total)\n",
    "\n",
    "        return std_payslip.create(payslip)\n",
    "        # return invoice\n",
    "        # self.env['student.payslip'].payslip_confirm()\n",
    "\n",
    "\n",
    "    def create_invoice(self):\n",
    "        self._create_invoice()"
   ]
  },
  {
   "cell_type": "code",
   "execution_count": null,
   "metadata": {},
   "outputs": [],
   "source": [
    "from datetime import datetime, date\n",
    "from dateutil.relativedelta import relativedelta"
   ]
  },
  {
   "cell_type": "code",
   "execution_count": null,
   "metadata": {},
   "outputs": [],
   "source": [
    "x = datetime.datetime.now()\n",
    "\n",
    "print(x)"
   ]
  },
  {
   "cell_type": "code",
   "execution_count": 65,
   "metadata": {},
   "outputs": [],
   "source": [
    "from datetime import *\n",
    "from dateutil.relativedelta import *\n",
    "import calendar\n",
    "import time"
   ]
  },
  {
   "cell_type": "code",
   "execution_count": 84,
   "metadata": {},
   "outputs": [],
   "source": [
    "NOW = datetime.now()\n",
    "TODAY = date.today()\n",
    "TIME = time.strftime('%Y-%m-%d')"
   ]
  },
  {
   "cell_type": "code",
   "execution_count": 83,
   "metadata": {},
   "outputs": [
    {
     "output_type": "stream",
     "name": "stdout",
     "text": [
      "2021-03-27 13:10:39.899739\n2021-03-27\n2021-03-27\n"
     ]
    }
   ],
   "source": [
    "print(NOW)\n",
    "print(TODAY)\n",
    "print(time.strftime('%Y-%m-%d'))"
   ]
  },
  {
   "cell_type": "code",
   "execution_count": 88,
   "metadata": {},
   "outputs": [
    {
     "output_type": "stream",
     "name": "stdout",
     "text": [
      "2021-04-01\n"
     ]
    }
   ],
   "source": [
    "print(date.today()+relativedelta(months=1, day=1))"
   ]
  },
  {
   "cell_type": "code",
   "execution_count": 81,
   "metadata": {},
   "outputs": [
    {
     "output_type": "stream",
     "name": "stdout",
     "text": [
      "2021-03-27\nBulan ke - 1 : 2021-04-01\nBulan ke - 2 : 2021-05-01\nBulan ke - 3 : 2021-06-01\nBulan ke - 4 : 2021-07-01\nBulan ke - 5 : 2021-08-01\nBulan ke - 6 : 2021-09-01\nBulan ke - 7 : 2021-10-01\nBulan ke - 8 : 2021-11-01\nBulan ke - 9 : 2021-12-01\nBulan ke - 10 : 2022-01-01\nBulan ke - 11 : 2022-02-01\nBulan ke - 12 : 2022-03-01\n"
     ]
    }
   ],
   "source": [
    "bulan = TODAY\n",
    "print(bulan)\n",
    "\n",
    "interval = 1\n",
    "while interval <= 12:\n",
    "    # bulan = NOW+relativedelta(months=interval, days=-1)\n",
    "    bulan = TODAY+relativedelta(months=interval, day=1)\n",
    "    print(\"Bulan ke -\",interval,\":\",bulan)\n",
    "    interval += 1\n"
   ]
  },
  {
   "cell_type": "code",
   "execution_count": 85,
   "metadata": {},
   "outputs": [
    {
     "output_type": "error",
     "ename": "TypeError",
     "evalue": "can only concatenate str (not \"relativedelta\") to str",
     "traceback": [
      "\u001b[0;31m---------------------------------------------------------------------------\u001b[0m",
      "\u001b[0;31mTypeError\u001b[0m                                 Traceback (most recent call last)",
      "\u001b[0;32m<ipython-input-85-407fe4d1e171>\u001b[0m in \u001b[0;36m<module>\u001b[0;34m\u001b[0m\n\u001b[1;32m      2\u001b[0m \u001b[0;32mwhile\u001b[0m \u001b[0minterval\u001b[0m \u001b[0;34m<=\u001b[0m \u001b[0;36m12\u001b[0m\u001b[0;34m:\u001b[0m\u001b[0;34m\u001b[0m\u001b[0;34m\u001b[0m\u001b[0m\n\u001b[1;32m      3\u001b[0m     \u001b[0;31m# bulan = NOW+relativedelta(months=interval, days=-1)\u001b[0m\u001b[0;34m\u001b[0m\u001b[0;34m\u001b[0m\u001b[0;34m\u001b[0m\u001b[0m\n\u001b[0;32m----> 4\u001b[0;31m     \u001b[0mbulan\u001b[0m \u001b[0;34m=\u001b[0m \u001b[0mTIME\u001b[0m\u001b[0;34m+\u001b[0m\u001b[0mrelativedelta\u001b[0m\u001b[0;34m(\u001b[0m\u001b[0mmonths\u001b[0m\u001b[0;34m=\u001b[0m\u001b[0minterval\u001b[0m\u001b[0;34m,\u001b[0m \u001b[0mday\u001b[0m\u001b[0;34m=\u001b[0m\u001b[0;36m1\u001b[0m\u001b[0;34m)\u001b[0m\u001b[0;34m\u001b[0m\u001b[0;34m\u001b[0m\u001b[0m\n\u001b[0m\u001b[1;32m      5\u001b[0m     \u001b[0mprint\u001b[0m\u001b[0;34m(\u001b[0m\u001b[0;34m\"Bulan ke -\"\u001b[0m\u001b[0;34m,\u001b[0m\u001b[0minterval\u001b[0m\u001b[0;34m,\u001b[0m\u001b[0;34m\":\"\u001b[0m\u001b[0;34m,\u001b[0m\u001b[0mbulan\u001b[0m\u001b[0;34m)\u001b[0m\u001b[0;34m\u001b[0m\u001b[0;34m\u001b[0m\u001b[0m\n\u001b[1;32m      6\u001b[0m     \u001b[0minterval\u001b[0m \u001b[0;34m+=\u001b[0m \u001b[0;36m1\u001b[0m\u001b[0;34m\u001b[0m\u001b[0;34m\u001b[0m\u001b[0m\n",
      "\u001b[0;31mTypeError\u001b[0m: can only concatenate str (not \"relativedelta\") to str"
     ]
    }
   ],
   "source": [
    "interval = 1\n",
    "while interval <= 12:\n",
    "    # bulan = NOW+relativedelta(months=interval, days=-1)\n",
    "    bulan = TIME+relativedelta(months=interval, day=1)\n",
    "    print(\"Bulan ke -\",interval,\":\",bulan)\n",
    "    interval += 1"
   ]
  },
  {
   "cell_type": "code",
   "execution_count": 73,
   "metadata": {},
   "outputs": [
    {
     "output_type": "stream",
     "name": "stdout",
     "text": [
      "2021-03-27\nrelativedelta(months=+1, day=1)\n2021-03-27 12:12:50.823363\n"
     ]
    },
    {
     "output_type": "error",
     "ename": "TypeError",
     "evalue": "can only concatenate str (not \"relativedelta\") to str",
     "traceback": [
      "\u001b[0;31m---------------------------------------------------------------------------\u001b[0m",
      "\u001b[0;31mTypeError\u001b[0m                                 Traceback (most recent call last)",
      "\u001b[0;32m<ipython-input-73-0483880ea38e>\u001b[0m in \u001b[0;36m<module>\u001b[0;34m\u001b[0m\n\u001b[1;32m      4\u001b[0m \u001b[0;34m\u001b[0m\u001b[0m\n\u001b[1;32m      5\u001b[0m \u001b[0mwaktu\u001b[0m \u001b[0;34m=\u001b[0m \u001b[0mtime\u001b[0m\u001b[0;34m.\u001b[0m\u001b[0mstrftime\u001b[0m\u001b[0;34m(\u001b[0m\u001b[0;34m'%Y-%m-%d'\u001b[0m\u001b[0;34m)\u001b[0m\u001b[0;34m\u001b[0m\u001b[0;34m\u001b[0m\u001b[0m\n\u001b[0;32m----> 6\u001b[0;31m \u001b[0mtotal\u001b[0m \u001b[0;34m=\u001b[0m \u001b[0mwaktu\u001b[0m \u001b[0;34m+\u001b[0m \u001b[0mrelativedelta\u001b[0m\u001b[0;34m(\u001b[0m\u001b[0mday\u001b[0m\u001b[0;34m=\u001b[0m\u001b[0;36m1\u001b[0m\u001b[0;34m)\u001b[0m\u001b[0;34m\u001b[0m\u001b[0;34m\u001b[0m\u001b[0m\n\u001b[0m\u001b[1;32m      7\u001b[0m \u001b[0;31m# print(waktu)\u001b[0m\u001b[0;34m\u001b[0m\u001b[0;34m\u001b[0m\u001b[0;34m\u001b[0m\u001b[0m\n\u001b[1;32m      8\u001b[0m \u001b[0;31m# print(time+relativedelta(months=1, day=1))\u001b[0m\u001b[0;34m\u001b[0m\u001b[0;34m\u001b[0m\u001b[0;34m\u001b[0m\u001b[0m\n",
      "\u001b[0;31mTypeError\u001b[0m: can only concatenate str (not \"relativedelta\") to str"
     ]
    }
   ],
   "source": [
    "print(time.strftime('%Y-%m-%d'))\n",
    "print(relativedelta(months=1, day=1))\n",
    "print(datetime.now())\n",
    "\n",
    "waktu = time.strftime('%Y-%m-%d')\n",
    "total = waktu + relativedelta(day=1)\n",
    "# print(waktu)\n",
    "# print(time+relativedelta(months=1, day=1))\n"
   ]
  },
  {
   "cell_type": "code",
   "execution_count": null,
   "metadata": {},
   "outputs": [],
   "source": [
    "structure_for = \"registration\"\n",
    "# fees_structure = \"monthly\"\n",
    "\n",
    "if structure_for == \"registration\"\n",
    "    "
   ]
  }
 ]
}