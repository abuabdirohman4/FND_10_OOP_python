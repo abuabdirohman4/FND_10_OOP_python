{
 "metadata": {
  "language_info": {
   "codemirror_mode": {
    "name": "ipython",
    "version": 3
   },
   "file_extension": ".py",
   "mimetype": "text/x-python",
   "name": "python",
   "nbconvert_exporter": "python",
   "pygments_lexer": "ipython3",
   "version": "3.8.5"
  },
  "orig_nbformat": 2,
  "kernelspec": {
   "name": "python38564bit0d9cac4d2a85481a821e3303ad5ece89",
   "display_name": "Python 3.8.5 64-bit"
  },
  "metadata": {
   "interpreter": {
    "hash": "916dbcbb3f70747c44a77c7bcd40155683ae19c65e1c03b4aa3499c5328201f1"
   }
  }
 },
 "nbformat": 4,
 "nbformat_minor": 2,
 "cells": [
  {
   "cell_type": "code",
   "execution_count": null,
   "metadata": {},
   "outputs": [],
   "source": [
    "def payslip_confirm(self):\n",
    "        '''Method to confirm payslip'''\n",
    "        for rec in self:\n",
    "            if not rec.journal_id:\n",
    "                raise ValidationError(_('Kindly, Select Account Journal!'))\n",
    "            if not rec.fees_structure_id:\n",
    "                raise ValidationError(_('Kindly, Select Fees Structure!'))\n",
    "            lines = []\n",
    "            for data in rec.fees_structure_id.line_ids or []:\n",
    "                line_vals = {'slip_id': rec.id,\n",
    "                             'name': data.name,\n",
    "                             'code': data.code,\n",
    "                             'type': data.type,\n",
    "                             'account_id': data.account_id.id,\n",
    "                             'amount': data.amount,\n",
    "                             'currency_id': data.currency_id.id or False,\n",
    "                             'currency_symbol': data.currency_symbol or False}\n",
    "                lines.append((0, 0, line_vals))\n",
    "            rec.write({'line_ids': lines})\n",
    "            # Compute amount\n",
    "            amount = 0\n",
    "            for data in rec.line_ids:\n",
    "                amount += data.amount\n",
    "            rec.register_id.write({'total_amount': rec.total})\n",
    "            rec.write({'total': amount,\n",
    "                       'state': 'confirm',\n",
    "                       'due_amount': amount,\n",
    "                       'currency_id': rec.company_id.currency_id.id or False\n",
    "                       })"
   ]
  },
  {
   "cell_type": "code",
   "execution_count": null,
   "metadata": {},
   "outputs": [],
   "source": [
    "lines = []\n",
    "line_vals = {   'slip_id': '01',\n",
    "                'name': 'Abu Abdirohman',\n",
    "                'code': '354',\n",
    "                'type': 'Lajang',\n",
    "            }\n",
    "lines.append((0, 0, line_vals))\n",
    "\n",
    "line_vals = {   'slip_id': '02',\n",
    "                'name': 'Azati Hanani',\n",
    "                'code': '354',\n",
    "                'type': 'Lajang',\n",
    "            }\n",
    "lines.append((0, 0, line_vals))\n",
    "\n",
    "print(lines)\n"
   ]
  },
  {
   "cell_type": "code",
   "execution_count": null,
   "metadata": {},
   "outputs": [],
   "source": [
    "print({'line_ids': lines})"
   ]
  },
  {
   "cell_type": "code",
   "execution_count": null,
   "metadata": {},
   "outputs": [],
   "source": [
    "{'line_ids': \n",
    "                [   (0, 0, {\n",
    "                            'slip_id': '01', 'name': 'Abu Abdirohman', 'code': '354', 'type': 'Lajang'\n",
    "                            }\n",
    "                    ), \n",
    "                    (0, 0, {\n",
    "                            'slip_id': '02', 'name': 'Azati Hanani', 'code': '354', 'type': 'Lajang'\n",
    "                            }\n",
    "                    )\n",
    "                ]\n",
    "}"
   ]
  },
  {
   "cell_type": "code",
   "execution_count": null,
   "metadata": {},
   "outputs": [],
   "source": [
    "lines = []\n",
    "print(lines)\n",
    "\n",
    "tupple1 = (0, 0, {'Nama': 'Abu'})\n",
    "tupple2 = (0, 0, {'Nama': 'Abdi'})\n",
    "tupple3 = (0, 0, {'Nama': 'Rohman'})\n",
    "print(tupple1, tupple2, tupple3)\n",
    "\n",
    "lines.append(tupple1)\n",
    "print(lines)\n",
    "lines.append(tupple2)\n",
    "print(lines)\n",
    "lines.append(tupple3)\n",
    "print(lines)\n",
    "\n",
    "line_ids = {'lines_ids' : lines}\n",
    "print(line_ids)"
   ]
  },
  {
   "cell_type": "code",
   "execution_count": null,
   "metadata": {},
   "outputs": [],
   "source": [
    "{'lines_ids': \n",
    "                [\n",
    "                    (0, 0, \n",
    "                        {\n",
    "                            'slip_id': self.id,\n",
    "                            'name': \"Seragam Olahraga\",\n",
    "                            'code': \"04\",\n",
    "                            'type': \"year\",\n",
    "                            'account_id': 30,\n",
    "                            'amount': 200000.00,\n",
    "                            'currency_id': 2 or False,\n",
    "                            'currency_symbol': 1 or False\n",
    "                        }\n",
    "                        \n",
    "                    ), \n",
    "                    (0, 0, \n",
    "                        {\n",
    "                            'slip_id': self.id,\n",
    "                            'name': \"Uang Gedung\",\n",
    "                            'code': \"05\",\n",
    "                            'type': \"year\",\n",
    "                            'account_id': 31,\n",
    "                            'amount': 15000000.00,\n",
    "                            'currency_id': 2 or False,\n",
    "                            'currency_symbol': 1 or False\n",
    "                        } \n",
    "                    ),\n",
    "                    (0, 0, \n",
    "                        {\n",
    "                            'slip_id': self.id,\n",
    "                            'name': \"Uang Masuk\",\n",
    "                            'code': \"06\",\n",
    "                            'type': \"year\",\n",
    "                            'account_id': 32,\n",
    "                            'amount': 5000000.00,\n",
    "                            'currency_id': 2 or False,\n",
    "                            'currency_symbol': 1 or False\n",
    "                        }\n",
    "                    )\n",
    "                ]\n",
    "}"
   ]
  },
  {
   "cell_type": "code",
   "execution_count": null,
   "metadata": {},
   "outputs": [],
   "source": [
    "payslip =   {\n",
    "                        'name': 'Invoice Biaya Pendaftaran',\n",
    "                        'journal_id': 1,\n",
    "                        # 'state': 'confirm',\n",
    "                        'fees_structure_id': 3,\n",
    "                    }\n",
    "print(payslip[\"fees_structure_id\"])\n"
   ]
  },
  {
   "cell_type": "code",
   "execution_count": null,
   "metadata": {},
   "outputs": [],
   "source": [
    "payslip['line_ids'],['nama'] = \"cek\", \"Abu\"\n",
    "payslip"
   ]
  },
  {
   "cell_type": "code",
   "execution_count": null,
   "metadata": {},
   "outputs": [],
   "source": [
    "payslip['line_ids'] = \"cek\""
   ]
  },
  {
   "cell_type": "code",
   "execution_count": null,
   "metadata": {},
   "outputs": [],
   "source": [
    "cat1 = {\"james\":{1,2,3}, \"bob\":{3,4,5}}\n",
    "for x in cat1['james']:\n",
    "    print(x)"
   ]
  },
  {
   "cell_type": "code",
   "execution_count": null,
   "metadata": {},
   "outputs": [],
   "source": [
    "payslip =   {\n",
    "                        'name': 'Invoice Biaya Pendaftaran',\n",
    "                        'journal_id': 1,\n",
    "                        # 'state': 'confirm',\n",
    "                        'fees_structure_id': 3,\n",
    "                    }\n",
    "print(payslip)"
   ]
  },
  {
   "cell_type": "code",
   "execution_count": null,
   "metadata": {},
   "outputs": [],
   "source": [
    "payslip2 =   {\n",
    "                        'woi': 'Invoice Biaya Pendaftaran',\n",
    "                        'wai woi': 1,\n",
    "                        # 'state': 'confirm',\n",
    "                        'fwoi woi woi': 3,\n",
    "                    }\n",
    "print(payslip2)"
   ]
  },
  {
   "cell_type": "code",
   "execution_count": null,
   "metadata": {},
   "outputs": [],
   "source": [
    "print(payslip.update(payslip2))\n",
    "print(payslip)"
   ]
  },
  {
   "cell_type": "code",
   "execution_count": null,
   "metadata": {},
   "outputs": [],
   "source": [
    "def Merge(dict1, dict2):\n",
    "    return(dict1.update(dict2))\n",
    "print(Merge(payslip,payslip2))"
   ]
  },
  {
   "cell_type": "code",
   "execution_count": null,
   "metadata": {},
   "outputs": [],
   "source": [
    "print(payslip)"
   ]
  },
  {
   "cell_type": "code",
   "execution_count": null,
   "metadata": {},
   "outputs": [],
   "source": []
  },
  {
   "cell_type": "code",
   "execution_count": null,
   "metadata": {},
   "outputs": [],
   "source": [
    "    def temp(self):\n",
    "        payslip =   {\n",
    "                        'name': 'Invoice Biaya Pendaftaran',\n",
    "                        'journal_id': 1,\n",
    "                        # 'state': 'confirm',\n",
    "                        'fees_structure_id': 3,\n",
    "                        'student_id': self.id,\n",
    "                        # 'total': 20200000.00,\n",
    "                        'line_ids': \n",
    "                        [\n",
    "                            (0, 0, \n",
    "                                {\n",
    "                                    'slip_id': self.id,\n",
    "                                    'name': \"Seragam Olahraga\",\n",
    "                                    'code': \"04\",\n",
    "                                    'type': \"year\",\n",
    "                                    'account_id': 30,\n",
    "                                    'amount': 200000.00,\n",
    "                                    'currency_id': 2 or False,\n",
    "                                    'currency_symbol': 1 or False\n",
    "                                }   \n",
    "                            ), \n",
    "                            (0, 0, \n",
    "                                {\n",
    "                                    'slip_id': self.id,\n",
    "                                    'name': \"Uang Gedung\",\n",
    "                                    'code': \"05\",\n",
    "                                    'type': \"year\",\n",
    "                                    'account_id': 31,\n",
    "                                    'amount': 15000000.00,\n",
    "                                    'currency_id': 2 or False,\n",
    "                                    'currency_symbol': 1 or False\n",
    "                                } \n",
    "                            ),\n",
    "                            (0, 0, \n",
    "                                {\n",
    "                                    'slip_id': self.id,\n",
    "                                    'name': \"Uang Masuk\",\n",
    "                                    'code': \"06\",\n",
    "                                    'type': \"year\",\n",
    "                                    'account_id': 32,\n",
    "                                    'amount': 5000000.00,\n",
    "                                    'currency_id': 2 or False,\n",
    "                                    'currency_symbol': 1 or False\n",
    "                                }\n",
    "                            )\n",
    "                        ],\n",
    "                        'total': 20200000.00,\n",
    "                        # 'state': 'confirm',\n",
    "                        'due_amount': 20200000.00,\n",
    "                        'currency_id': 2 or False\n",
    "                    }\n",
    "        return std_payslip.create(payslip)"
   ]
  },
  {
   "cell_type": "code",
   "execution_count": null,
   "metadata": {},
   "outputs": [],
   "source": [
    "# Overriding Invoice\n",
    "    @api.multi\n",
    "    def _create_invoice(self):\n",
    "        std_payslip = self.env['student.payslip']\n",
    "        self.ensure_one()\n",
    "        # Define student.payslip\n",
    "        payslip =   {\n",
    "                        'name': 'Invoice Biaya Pendaftaran',\n",
    "                        'journal_id': 1,\n",
    "                        # 'state': 'confirm',\n",
    "                        'fees_structure_id': 3,\n",
    "                        'student_id': self.id,\n",
    "                    }\n",
    "\n",
    "        # Define student.payslip.line\n",
    "        std_fees_structure = self.env['student.fees.structure'].search([('id', '=', 3)])\n",
    "        lines = []\n",
    "        for data in std_fees_structure.line_ids or []:\n",
    "            line_vals = {'slip_id': self.id,\n",
    "                            'name': data.name,\n",
    "                            'code': data.code,\n",
    "                            'type': data.type,\n",
    "                            'account_id': data.account_id.id,\n",
    "                            'amount': data.amount,\n",
    "                            'currency_id': data.currency_id.id or False,\n",
    "                            'currency_symbol': data.currency_symbol or False}\n",
    "            lines.append((0, 0, line_vals))\n",
    "        payslip['line_ids'] = lines\n",
    "        # Compute amount\n",
    "        amount = 0\n",
    "        for data in std_fees_structure.line_ids:\n",
    "        # for data in std_payslip.line_ids:\n",
    "            amount += data.amount\n",
    "        std_payslip.register_id.write({'total_amount': std_payslip.total})\n",
    "        payslip_total = {'total': amount,\n",
    "                        #  'state': 'confirm',\n",
    "                         'due_amount': amount,\n",
    "                         'currency_id': std_payslip.company_id.currency_id.id or False\n",
    "                        }\n",
    "        # Merge\n",
    "        payslip.update(payslip_total)\n",
    "\n",
    "        return std_payslip.create(payslip)\n",
    "        # return invoice\n",
    "        # self.env['student.payslip'].payslip_confirm()\n",
    "\n",
    "\n",
    "    def create_invoice(self):\n",
    "        self._create_invoice()"
   ]
  },
  {
   "cell_type": "code",
   "execution_count": null,
   "metadata": {},
   "outputs": [],
   "source": [
    "from datetime import datetime, date\n",
    "from dateutil.relativedelta import relativedelta"
   ]
  },
  {
   "cell_type": "code",
   "execution_count": null,
   "metadata": {},
   "outputs": [],
   "source": [
    "x = datetime.datetime.now()\n",
    "\n",
    "print(x)"
   ]
  },
  {
   "cell_type": "code",
   "execution_count": null,
   "metadata": {},
   "outputs": [],
   "source": [
    "from datetime import *\n",
    "from dateutil.relativedelta import *\n",
    "import calendar\n",
    "import time"
   ]
  },
  {
   "cell_type": "code",
   "execution_count": null,
   "metadata": {},
   "outputs": [],
   "source": [
    "NOW = datetime.now()\n",
    "TODAY = date.today()\n",
    "TIME = time.strftime('%Y-%m-%d')"
   ]
  },
  {
   "cell_type": "code",
   "execution_count": null,
   "metadata": {},
   "outputs": [],
   "source": [
    "print(NOW)\n",
    "print(TODAY)\n",
    "print(time.strftime('%Y-%m-%d'))"
   ]
  },
  {
   "cell_type": "code",
   "execution_count": null,
   "metadata": {},
   "outputs": [],
   "source": [
    "print(date.today()+relativedelta(months=1, day=1))"
   ]
  },
  {
   "cell_type": "code",
   "execution_count": null,
   "metadata": {},
   "outputs": [],
   "source": [
    "bulan = TODAY\n",
    "print(bulan)\n",
    "\n",
    "interval = 1\n",
    "while interval <= 12:\n",
    "    # bulan = NOW+relativedelta(months=interval, days=-1)\n",
    "    bulan = TODAY+relativedelta(months=interval, day=1)\n",
    "    print(\"Bulan ke -\",interval,\":\",bulan)\n",
    "    interval += 1\n"
   ]
  },
  {
   "cell_type": "code",
   "execution_count": null,
   "metadata": {},
   "outputs": [],
   "source": [
    "interval = 1\n",
    "while interval <= 12:\n",
    "    # bulan = NOW+relativedelta(months=interval, days=-1)\n",
    "    bulan = TIME+relativedelta(months=interval, day=1)\n",
    "    print(\"Bulan ke -\",interval,\":\",bulan)\n",
    "    interval += 1"
   ]
  },
  {
   "cell_type": "code",
   "execution_count": null,
   "metadata": {},
   "outputs": [],
   "source": [
    "print(time.strftime('%Y-%m-%d'))\n",
    "print(relativedelta(months=1, day=1))\n",
    "print(datetime.now())\n",
    "\n",
    "waktu = time.strftime('%Y-%m-%d')\n",
    "total = waktu + relativedelta(day=1)\n",
    "# print(waktu)\n",
    "# print(time+relativedelta(months=1, day=1))\n"
   ]
  },
  {
   "cell_type": "code",
   "execution_count": null,
   "metadata": {},
   "outputs": [],
   "source": [
    "structure_for = \"registration\"\n",
    "# fees_structure = \"monthly\"\n",
    "\n",
    "if structure_for == \"registration\"\n",
    "    "
   ]
  },
  {
   "cell_type": "code",
   "execution_count": null,
   "metadata": {},
   "outputs": [],
   "source": [
    "structure_for = input()\n",
    "\n",
    "check = {'a': \"registration\", 'b': \"monthly\"}\n",
    "\n",
    "# if structure_for == \"\"\n",
    "\n",
    "# print(check\n",
    "#         [n%2==0 and \n",
    "#                     (n in range(2,6) or n > 20)])\n",
    "check[structure_for]\n",
    "\n",
    "\n",
    "validasi = False\n",
    "regis = \"registration\"\n",
    "month = \"monthly\"\n",
    "\n",
    "if not validasi:\n",
    "    print(\"cek\")"
   ]
  },
  {
   "cell_type": "code",
   "execution_count": null,
   "metadata": {},
   "outputs": [],
   "source": [
    "structure_for = input()"
   ]
  },
  {
   "cell_type": "code",
   "execution_count": null,
   "metadata": {},
   "outputs": [],
   "source": [
    "input_structure = input()\n",
    "# structure_for = {'a': 'registration', 'b': 'monthly'}\n",
    "# print(structure_for[input_structure])\n",
    "\n",
    "# if structure_for[input_structure] == \"monthly\":\n",
    "#     print(\"Monthly\")\n",
    "# else:\n",
    "#     print(\"Registration\")"
   ]
  },
  {
   "cell_type": "code",
   "execution_count": null,
   "metadata": {},
   "outputs": [],
   "source": [
    "n = int(input().strip())"
   ]
  },
  {
   "cell_type": "code",
   "execution_count": 28,
   "metadata": {},
   "outputs": [
    {
     "output_type": "error",
     "ename": "TypeError",
     "evalue": "'str' object is not callable",
     "traceback": [
      "\u001b[0;31m---------------------------------------------------------------------------\u001b[0m",
      "\u001b[0;31mTypeError\u001b[0m                                 Traceback (most recent call last)",
      "\u001b[0;32m<ipython-input-28-914519153390>\u001b[0m in \u001b[0;36m<module>\u001b[0;34m\u001b[0m\n\u001b[0;32m----> 1\u001b[0;31m \u001b[0mn\u001b[0m \u001b[0;34m=\u001b[0m \u001b[0mint\u001b[0m\u001b[0;34m(\u001b[0m\u001b[0minput\u001b[0m\u001b[0;34m(\u001b[0m\u001b[0;34m)\u001b[0m\u001b[0;34m.\u001b[0m\u001b[0mstrip\u001b[0m\u001b[0;34m(\u001b[0m\u001b[0;34m)\u001b[0m\u001b[0;34m)\u001b[0m\u001b[0;34m\u001b[0m\u001b[0;34m\u001b[0m\u001b[0m\n\u001b[0m\u001b[1;32m      2\u001b[0m \u001b[0;34m\u001b[0m\u001b[0m\n\u001b[1;32m      3\u001b[0m \u001b[0;32mdef\u001b[0m \u001b[0mfunction\u001b[0m\u001b[0;34m(\u001b[0m\u001b[0minput\u001b[0m\u001b[0;34m)\u001b[0m\u001b[0;34m:\u001b[0m\u001b[0;34m\u001b[0m\u001b[0;34m\u001b[0m\u001b[0m\n\u001b[1;32m      4\u001b[0m     \u001b[0;31m# return \"Weird\" if number % 2 else \"Even\"\u001b[0m\u001b[0;34m\u001b[0m\u001b[0;34m\u001b[0m\u001b[0;34m\u001b[0m\u001b[0m\n\u001b[1;32m      5\u001b[0m     \u001b[0;32mif\u001b[0m \u001b[0minput\u001b[0m \u001b[0;34m%\u001b[0m \u001b[0;36m2\u001b[0m \u001b[0;34m==\u001b[0m \u001b[0;36m1\u001b[0m\u001b[0;34m:\u001b[0m\u001b[0;34m\u001b[0m\u001b[0;34m\u001b[0m\u001b[0m\n",
      "\u001b[0;31mTypeError\u001b[0m: 'str' object is not callable"
     ]
    }
   ],
   "source": [
    "n = int(input().strip())\n",
    "\n",
    "def function(input):\n",
    "    # return \"Weird\" if number % 2 else \"Even\"\n",
    "    if input % 2 == 1:\n",
    "        return \"Weird\"\n",
    "    elif input %2 == 0:\n",
    "        if input in range(2,6):\n",
    "            return \"Not Weird\"\n",
    "        elif input in range(6,21):\n",
    "            return \"Weird\"\n",
    "        elif input > 20:\n",
    "            return \"Not Weird\"\n",
    "\n",
    "print(function(n))"
   ]
  },
  {
   "cell_type": "code",
   "execution_count": 2,
   "metadata": {},
   "outputs": [
    {
     "output_type": "stream",
     "name": "stdout",
     "text": [
      "abu\n"
     ]
    }
   ],
   "source": [
    "def dictionary():\n",
    "    return {\n",
    "        'name' : 'abu'\n",
    "    }\n",
    "\n",
    "print(dictionary()['name'])"
   ]
  },
  {
   "cell_type": "code",
   "execution_count": 10,
   "metadata": {},
   "outputs": [
    {
     "output_type": "stream",
     "name": "stdout",
     "text": [
      "[{'id': 1, 'name': 'male'}, {'id': 2, 'name': 'female'}]\n"
     ]
    }
   ],
   "source": [
    " gender =   [{\n",
    "                'id' : 1,\n",
    "                'name' : 'male'            \n",
    "            },\n",
    "            {\n",
    "                'id' : 2,\n",
    "                'name' : 'female'            \n",
    "            }]\n",
    "print(gender)                "
   ]
  },
  {
   "cell_type": "code",
   "execution_count": 16,
   "metadata": {},
   "outputs": [
    {
     "output_type": "stream",
     "name": "stdout",
     "text": [
      "male\n"
     ]
    }
   ],
   "source": [
    "print(gender[0]['name'])"
   ]
  },
  {
   "cell_type": "code",
   "execution_count": 34,
   "metadata": {},
   "outputs": [
    {
     "output_type": "stream",
     "name": "stdout",
     "text": [
      "{'gender': ['Laki-Laki', 'Perempuan']}\n"
     ]
    }
   ],
   "source": [
    "gender = {\n",
    "    'gender' : [\"Laki-Laki\", \"Perempuan\"],\n",
    "    'id'\n",
    "}\n",
    "print(gender)\n"
   ]
  },
  {
   "cell_type": "code",
   "execution_count": 28,
   "metadata": {},
   "outputs": [
    {
     "output_type": "error",
     "ename": "SyntaxError",
     "evalue": "invalid syntax (<ipython-input-28-c4e01cd291a0>, line 9)",
     "traceback": [
      "\u001b[0;36m  File \u001b[0;32m\"<ipython-input-28-c4e01cd291a0>\"\u001b[0;36m, line \u001b[0;32m9\u001b[0m\n\u001b[0;31m    ],\u001b[0m\n\u001b[0m     ^\u001b[0m\n\u001b[0;31mSyntaxError\u001b[0m\u001b[0;31m:\u001b[0m invalid syntax\n"
     ]
    }
   ],
   "source": [
    "gender = {\n",
    "    'gender' : [\n",
    "                \"Laki-Laki\", \n",
    "                \"Perempuan\"\n",
    "                ],\n",
    "                [\n",
    "                    'male',\n",
    "                    'female'\n",
    "                  ],\n",
    "    }\n",
    "print(gender)"
   ]
  },
  {
   "cell_type": "code",
   "execution_count": null,
   "metadata": {},
   "outputs": [],
   "source": []
  }
 ]
}