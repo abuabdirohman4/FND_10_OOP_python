{
 "metadata": {
  "language_info": {
   "codemirror_mode": {
    "name": "ipython",
    "version": 3
   },
   "file_extension": ".py",
   "mimetype": "text/x-python",
   "name": "python",
   "nbconvert_exporter": "python",
   "pygments_lexer": "ipython3",
   "version": "3.8.5-final"
  },
  "orig_nbformat": 2,
  "kernelspec": {
   "name": "python38564bit0d9cac4d2a85481a821e3303ad5ece89",
   "display_name": "Python 3.8.5 64-bit",
   "language": "python"
  }
 },
 "nbformat": 4,
 "nbformat_minor": 2,
 "cells": [
  {
   "cell_type": "code",
   "execution_count": 7,
   "metadata": {},
   "outputs": [
    {
     "output_type": "stream",
     "name": "stdout",
     "text": [
      "{'name': 'lina', 'health': 100, '_Hero__private': 'private', '_protected': 'protected'}\n{'name': 'lina', 'health': 100, '_Hero__private': 'private', '_protected': 'protected', '__private': 'testing'}\nprotected\n{'name': 'lina', 'health': 100, '_Hero__private': 'private', '_protected': 'testing', '__private': 'testing'}\ntesting\n{'__module__': '__main__', 'jumlah': 0, '_Hero__privateJumlah': 0, '__init__': <function Hero.__init__ at 0x7fce6dbf3e50>, '__dict__': <attribute '__dict__' of 'Hero' objects>, '__weakref__': <attribute '__weakref__' of 'Hero' objects>, '__doc__': None}\n"
     ]
    }
   ],
   "source": [
    "class Hero:\n",
    "\n",
    "    # class variabel\n",
    "    jumlah = 0\n",
    "    __privateJumlah = 0\n",
    "\n",
    "    def __init__(self,name,health):\n",
    "        self.name = name\n",
    "        self.health = health\n",
    "        \n",
    "        # variabel instance private\n",
    "        self.__private = \"private\"\n",
    "        # variabel instance protected\n",
    "        self._protected = \"protected\"\n",
    "\n",
    "lina = Hero(\"lina\",100)\n",
    "\n",
    "print(lina.__dict__)\n",
    "lina.__private = \"testing\"\n",
    "print(lina.__dict__)\n",
    "# print(lina.private)\n",
    "# Hasilnya tida terbaca\n",
    "\n",
    "print(lina._protected)\n",
    "lina._protected = \"testing\"\n",
    "print(lina.__dict__)\n",
    "print(lina._protected)\n",
    "\n",
    "print(Hero.__dict__)"
   ]
  },
  {
   "cell_type": "code",
   "execution_count": null,
   "metadata": {},
   "outputs": [],
   "source": []
  }
 ]
}