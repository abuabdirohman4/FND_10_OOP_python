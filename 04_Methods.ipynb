{
 "metadata": {
  "language_info": {
   "codemirror_mode": {
    "name": "ipython",
    "version": 3
   },
   "file_extension": ".py",
   "mimetype": "text/x-python",
   "name": "python",
   "nbconvert_exporter": "python",
   "pygments_lexer": "ipython3",
   "version": "3.8.5-final"
  },
  "orig_nbformat": 2,
  "kernelspec": {
   "name": "python38564bit0d9cac4d2a85481a821e3303ad5ece89",
   "display_name": "Python 3.8.5 64-bit",
   "language": "python"
  }
 },
 "nbformat": 4,
 "nbformat_minor": 2,
 "cells": [
  {
   "cell_type": "code",
   "execution_count": 4,
   "metadata": {},
   "outputs": [
    {
     "output_type": "stream",
     "name": "stdout",
     "text": [
      "namaku adalah Sniper\n210\n"
     ]
    }
   ],
   "source": [
    "class Hero:\n",
    "    # Class Variables\n",
    "    jumlah = 0\n",
    "\n",
    "    def __init__(self, inputName, inputHealth, inputPower, inputArmor):\n",
    "        # Instance Variables\n",
    "        self.name = inputName\n",
    "        self.health = inputHealth\n",
    "        self.power = inputPower\n",
    "        self.armor = inputArmor\n",
    "        Hero.jumlah += 1\n",
    "\n",
    "    # void function (di pemrograman lain)\n",
    "    # Di python disebut method tanpa return & argumen\n",
    "    def siapa(self):\n",
    "        print(\"namaku adalah \" + self.name)\n",
    "\n",
    "    # method dengan argumen, tanpa return\n",
    "    def healthUp(self,up):\n",
    "        self.health += up \n",
    "        \n",
    "    def getHealth(self):\n",
    "        return self.health\n",
    "\n",
    "hero1 = Hero('Sniper', 200, 10, 5)\n",
    "hero2 = Hero('Mario Bros', 90, 5, 10)\n",
    "\n",
    "hero1.siapa()\n",
    "\n",
    "hero1.healthUp(10)\n",
    "print(hero1.getHealth())"
   ]
  },
  {
   "cell_type": "code",
   "execution_count": null,
   "metadata": {},
   "outputs": [],
   "source": []
  }
 ]
}