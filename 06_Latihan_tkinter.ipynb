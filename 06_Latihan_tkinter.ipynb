{
 "metadata": {
  "language_info": {
   "codemirror_mode": {
    "name": "ipython",
    "version": 3
   },
   "file_extension": ".py",
   "mimetype": "text/x-python",
   "name": "python",
   "nbconvert_exporter": "python",
   "pygments_lexer": "ipython3",
   "version": "3.8.5-final"
  },
  "orig_nbformat": 2,
  "kernelspec": {
   "name": "python38564bit0d9cac4d2a85481a821e3303ad5ece89",
   "display_name": "Python 3.8.5 64-bit",
   "language": "python"
  }
 },
 "nbformat": 4,
 "nbformat_minor": 2,
 "cells": [
  {
   "cell_type": "code",
   "execution_count": 11,
   "metadata": {},
   "outputs": [],
   "source": [
    "import tkinter\n",
    "\n",
    "main_window = tkinter.Tk()\n",
    "\n",
    "label1 = tkinter.Label(main_window, text = \"Label1\")\n",
    "label2 = tkinter.Label(main_window, text = \"Label2\")\n",
    "\n",
    "tombol1 = tkinter.Button(main_window, text = \"tombol1\")\n",
    "tombol2 = tkinter.Button(main_window, text = \"tombol2\")\n",
    "\n",
    "# print(main_window.__dict__)\n",
    "\n",
    "# method positioning\n",
    "label1.pack()\n",
    "label2.pack()\n",
    "tombol1.pack()\n",
    "tombol2.pack()\n",
    "\n",
    "# method menampilkan GUI\n",
    "main_window.mainloop()"
   ]
  },
  {
   "cell_type": "code",
   "execution_count": 9,
   "metadata": {},
   "outputs": [],
   "source": []
  },
  {
   "cell_type": "code",
   "execution_count": 10,
   "metadata": {},
   "outputs": [],
   "source": []
  },
  {
   "cell_type": "code",
   "execution_count": null,
   "metadata": {},
   "outputs": [],
   "source": []
  }
 ]
}