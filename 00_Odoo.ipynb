{
 "metadata": {
  "language_info": {
   "codemirror_mode": {
    "name": "ipython",
    "version": 3
   },
   "file_extension": ".py",
   "mimetype": "text/x-python",
   "name": "python",
   "nbconvert_exporter": "python",
   "pygments_lexer": "ipython3",
   "version": 3
  },
  "orig_nbformat": 2
 },
 "nbformat": 4,
 "nbformat_minor": 2,
 "cells": [
  {
   "cell_type": "code",
   "execution_count": null,
   "metadata": {},
   "outputs": [],
   "source": [
    "def payslip_confirm(self):\n",
    "        '''Method to confirm payslip'''\n",
    "        for rec in self:\n",
    "            if not rec.journal_id:\n",
    "                raise ValidationError(_('Kindly, Select Account Journal!'))\n",
    "            if not rec.fees_structure_id:\n",
    "                raise ValidationError(_('Kindly, Select Fees Structure!'))\n",
    "            lines = []\n",
    "            for data in rec.fees_structure_id.line_ids or []:\n",
    "                line_vals = {'slip_id': rec.id,\n",
    "                             'name': data.name,\n",
    "                             'code': data.code,\n",
    "                             'type': data.type,\n",
    "                             'account_id': data.account_id.id,\n",
    "                             'amount': data.amount,\n",
    "                             'currency_id': data.currency_id.id or False,\n",
    "                             'currency_symbol': data.currency_symbol or False}\n",
    "                lines.append((0, 0, line_vals))\n",
    "            rec.write({'line_ids': lines})\n",
    "            # Compute amount\n",
    "            amount = 0\n",
    "            for data in rec.line_ids:\n",
    "                amount += data.amount\n",
    "            rec.register_id.write({'total_amount': rec.total})\n",
    "            rec.write({'total': amount,\n",
    "                       'state': 'confirm',\n",
    "                       'due_amount': amount,\n",
    "                       'currency_id': rec.company_id.currency_id.id or False\n",
    "                       })"
   ]
  },
  {
   "cell_type": "code",
   "execution_count": null,
   "metadata": {},
   "outputs": [],
   "source": [
    "lines = []\n",
    "line_vals = {   'slip_id': '01',\n",
    "                'name': 'Abu Abdirohman',\n",
    "                'code': '354',\n",
    "                'type': 'Lajang',\n",
    "            }\n",
    "lines.append((0, 0, line_vals))\n",
    "\n",
    "line_vals = {   'slip_id': '02',\n",
    "                'name': 'Azati Hanani',\n",
    "                'code': '354',\n",
    "                'type': 'Lajang',\n",
    "            }\n",
    "lines.append((0, 0, line_vals))\n",
    "\n",
    "print(lines)\n"
   ]
  },
  {
   "cell_type": "code",
   "execution_count": null,
   "metadata": {},
   "outputs": [],
   "source": [
    "print({'line_ids': lines})"
   ]
  },
  {
   "cell_type": "code",
   "execution_count": null,
   "metadata": {},
   "outputs": [],
   "source": [
    "{'line_ids': \n",
    "                [   (0, 0, {\n",
    "                            'slip_id': '01', 'name': 'Abu Abdirohman', 'code': '354', 'type': 'Lajang'\n",
    "                            }\n",
    "                    ), \n",
    "                    (0, 0, {\n",
    "                            'slip_id': '02', 'name': 'Azati Hanani', 'code': '354', 'type': 'Lajang'\n",
    "                            }\n",
    "                    )\n",
    "                ]\n",
    "}"
   ]
  }
 ]
}